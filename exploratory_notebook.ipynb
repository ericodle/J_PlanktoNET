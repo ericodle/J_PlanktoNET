{
  "nbformat": 4,
  "nbformat_minor": 0,
  "metadata": {
    "colab": {
      "provenance": [],
      "gpuType": "T4",
      "authorship_tag": "ABX9TyPuCZlRz1GcVPeoJ07ae134",
      "include_colab_link": true
    },
    "kernelspec": {
      "name": "python3",
      "display_name": "Python 3"
    },
    "language_info": {
      "name": "python"
    },
    "accelerator": "GPU"
  },
  "cells": [
    {
      "cell_type": "markdown",
      "metadata": {
        "id": "view-in-github",
        "colab_type": "text"
      },
      "source": [
        "<a href=\"https://colab.research.google.com/github/ericodle/J_PlanktoNET/blob/main/exploratory_notebook.ipynb\" target=\"_parent\"><img src=\"https://colab.research.google.com/assets/colab-badge.svg\" alt=\"Open In Colab\"/></a>"
      ]
    },
    {
      "cell_type": "markdown",
      "source": [
        "Load the image files into your working environment. Here, I'm using my Google Drive account."
      ],
      "metadata": {
        "id": "KzXyvIod4d4M"
      }
    },
    {
      "cell_type": "code",
      "execution_count": 1,
      "metadata": {
        "colab": {
          "base_uri": "https://localhost:8080/"
        },
        "id": "4NYHZiBS4YYJ",
        "outputId": "00a423df-c4c6-4936-94a9-59f85520da48"
      },
      "outputs": [
        {
          "output_type": "stream",
          "name": "stdout",
          "text": [
            "Drive already mounted at /content/drive; to attempt to forcibly remount, call drive.mount(\"/content/drive\", force_remount=True).\n"
          ]
        }
      ],
      "source": [
        "#Mount your Google Drive\n",
        "from google.colab import drive\n",
        "drive.mount('/content/drive')"
      ]
    },
    {
      "cell_type": "markdown",
      "source": [
        "If there is a GPU available, this line makes it the default device. If no GPU is available, a CPU will be used instead."
      ],
      "metadata": {
        "id": "9yjft7RfKgzB"
      }
    },
    {
      "cell_type": "code",
      "source": [
        "# Define the device\n",
        "device = torch.device(\"cuda\" if torch.cuda.is_available() else \"cpu\")"
      ],
      "metadata": {
        "id": "_D2ECphyKB9E"
      },
      "execution_count": null,
      "outputs": []
    },
    {
      "cell_type": "markdown",
      "source": [
        "Load dependency libraries"
      ],
      "metadata": {
        "id": "0iA5e1MuKvbs"
      }
    },
    {
      "cell_type": "code",
      "source": [
        "import torch\n",
        "import torch.nn as nn\n",
        "import torchvision.models as models\n",
        "import torch.nn.functional as F\n",
        "from torchvision import transforms\n",
        "from torchvision.datasets import ImageFolder\n",
        "from torchvision.datasets.folder import default_loader\n",
        "import os\n",
        "from sklearn.metrics import silhouette_score\n",
        "from sklearn.cluster import KMeans\n",
        "import matplotlib.pyplot as plt"
      ],
      "metadata": {
        "id": "7O91TjKPKu5R"
      },
      "execution_count": null,
      "outputs": []
    },
    {
      "cell_type": "markdown",
      "source": [
        "Define the models used for this analysis. Here, we use VGG16 along with custom Encoder and Decoder classes I wrote to train via unsupervised learning."
      ],
      "metadata": {
        "id": "Wl-BUsi9Kz9k"
      }
    },
    {
      "cell_type": "code",
      "source": [
        "# Load the pre-trained VGG16 model\n",
        "vgg_model = models.vgg16(pretrained=True)\n",
        "\n",
        "# Define the size of the hidden layer and latent space\n",
        "hidden_size = 256\n",
        "latent_size = 128\n",
        "\n",
        "# Get the output size of the last layer of the VGG16 model\n",
        "output_size = vgg_model.classifier[6].in_features\n",
        "\n",
        "\n",
        "class Encoder(nn.Module):\n",
        "    def __init__(self, encoded_size=128):\n",
        "        super(Encoder, self).__init__()\n",
        "        self.conv1 = nn.Conv2d(3, 64, kernel_size=4, stride=2, padding=1)\n",
        "        self.conv2 = nn.Conv2d(64, 128, kernel_size=4, stride=2, padding=1)\n",
        "        self.conv3 = nn.Conv2d(128, 256, kernel_size=4, stride=2, padding=1)\n",
        "        self.conv4 = nn.Conv2d(256, 512, kernel_size=4, stride=2, padding=1)\n",
        "        self.fc = nn.Linear(encoded_size*784, 512)\n",
        "\n",
        "    def forward(self, x):\n",
        "        x = F.relu(self.conv1(x))\n",
        "        x = F.relu(self.conv2(x))\n",
        "        x = F.relu(self.conv3(x))\n",
        "        x = F.relu(self.conv4(x))\n",
        "        x = x.view(x.size(0), -1)\n",
        "        x = self.fc(x)\n",
        "        return x\n",
        "\n",
        "class Decoder(nn.Module):\n",
        "    def __init__(self, encoded_size):\n",
        "        super(Decoder, self).__init__()\n",
        "        self.fc1 = nn.Linear(512, 1024)\n",
        "        self.fc2 = nn.Linear(1024, 3 * 224 * 224)\n",
        "\n",
        "    def forward(self, x):\n",
        "        x = F.relu(self.fc1(x))\n",
        "        x = torch.sigmoid(self.fc2(x))\n",
        "        x = x.view(x.size(0), 3, 224, 224)\n",
        "        return x\n",
        "\n",
        "# Create a custom dataset without relying on ImageFolder structure\n",
        "class UnsupervisedDataset(torch.utils.data.Dataset):\n",
        "    def __init__(self, folder_path, transform):\n",
        "        self.folder_path = folder_path\n",
        "        self.transform = transform\n",
        "        self.images = self.load_images()\n",
        "\n",
        "    def load_images(self):\n",
        "        images = []\n",
        "        loader = default_loader\n",
        "        for filename in os.listdir(self.folder_path):\n",
        "            if filename.endswith('.png'):\n",
        "                img_path = os.path.join(self.folder_path, filename)\n",
        "                img = loader(img_path)\n",
        "                if self.transform is not None:\n",
        "                    img = self.transform(img)\n",
        "                images.append(img)\n",
        "        return images\n",
        "\n",
        "    def __getitem__(self, index):\n",
        "        img = self.images[index]\n",
        "        return img\n",
        "\n",
        "    def __len__(self):\n",
        "        return len(self.images)"
      ],
      "metadata": {
        "id": "-BL2XGeakdKP",
        "colab": {
          "base_uri": "https://localhost:8080/"
        },
        "outputId": "47ef604f-34f8-45dd-98d5-be4a9d73cd96"
      },
      "execution_count": 2,
      "outputs": [
        {
          "output_type": "stream",
          "name": "stderr",
          "text": [
            "/usr/local/lib/python3.10/dist-packages/torchvision/models/_utils.py:208: UserWarning: The parameter 'pretrained' is deprecated since 0.13 and may be removed in the future, please use 'weights' instead.\n",
            "  warnings.warn(\n",
            "/usr/local/lib/python3.10/dist-packages/torchvision/models/_utils.py:223: UserWarning: Arguments other than a weight enum or `None` for 'weights' are deprecated since 0.13 and may be removed in the future. The current behavior is equivalent to passing `weights=VGG16_Weights.IMAGENET1K_V1`. You can also use `weights=VGG16_Weights.DEFAULT` to get the most up-to-date weights.\n",
            "  warnings.warn(msg)\n"
          ]
        }
      ]
    },
    {
      "cell_type": "markdown",
      "source": [
        "Point to the location where the target images are saved. I also define the image transformation parameters in this cell."
      ],
      "metadata": {
        "id": "eivqA4VlLQ_7"
      }
    },
    {
      "cell_type": "code",
      "source": [
        "# Define the path to the folder containing the PNG images\n",
        "data_path = \"/content/drive/MyDrive/D20230307T053258_IFCB108\"\n",
        "\n",
        "\n",
        "# Define the transformation to be applied to each image\n",
        "transform = transforms.Compose([\n",
        "    transforms.Resize((224, 224)),  # Resize the images to a specific size\n",
        "    transforms.ToTensor(),  # Convert the images to tensors\n",
        "    transforms.Normalize((0.5, 0.5, 0.5), (0.5, 0.5, 0.5)),  # Normalize the images\n",
        "])"
      ],
      "metadata": {
        "id": "bdI8MP48KlwZ"
      },
      "execution_count": 3,
      "outputs": []
    },
    {
      "cell_type": "markdown",
      "source": [
        "Instantiate the UnsupervisedDataset class with our images, then make a training dataloader for...training."
      ],
      "metadata": {
        "id": "fwuey-4mLXLb"
      }
    },
    {
      "cell_type": "code",
      "source": [
        "# Create the unsupervised dataset\n",
        "dataset = UnsupervisedDataset(folder_path=data_path, transform=transform)\n",
        "\n",
        "# Create the training dataloader\n",
        "train_dataloader = torch.utils.data.DataLoader(dataset, batch_size=1, shuffle=True) # batch size = 1 due to colab memory restrictions"
      ],
      "metadata": {
        "id": "7WHl8J4Lopec"
      },
      "execution_count": 5,
      "outputs": []
    },
    {
      "cell_type": "markdown",
      "source": [
        "Training loop. Pretty standard code for PyTorch."
      ],
      "metadata": {
        "id": "qnvPo9OeLfer"
      }
    },
    {
      "cell_type": "code",
      "source": [
        "num_epochs = 10\n",
        "\n",
        "train_losses = []\n",
        "\n",
        "encoded_size = 128\n",
        "encoder = Encoder(encoded_size).to(device)\n",
        "decoder = Decoder(encoded_size).to(device)\n",
        "\n",
        "# Define the loss function\n",
        "criterion = nn.MSELoss()\n",
        "\n",
        "# Define the optimizer\n",
        "optimizer = torch.optim.Adam(list(encoder.parameters()) + list(decoder.parameters()), lr=0.001)\n",
        "\n",
        "# Training loop\n",
        "for epoch in range(num_epochs):\n",
        "    for images in train_dataloader:\n",
        "        # Move images to the same device as model parameters\n",
        "        images = images.to(device)\n",
        "        #print(\"images shape: \", images.shape)\n",
        "\n",
        "        # Encode\n",
        "        encoded = encoder(images)\n",
        "        #print(\"encoded shape: \", encoded.shape)\n",
        "\n",
        "        # Reconstruct\n",
        "        reconstructed = decoder(encoded)\n",
        "        #print(\"reconstructed shape: \", reconstructed.shape) #image dims need to be 224\n",
        "\n",
        "        # Calculate the reconstruction loss\n",
        "        loss = criterion(reconstructed, images)\n",
        "\n",
        "        # Backpropagation and optimization\n",
        "        optimizer.zero_grad()\n",
        "        loss.backward()\n",
        "        optimizer.step()\n",
        "\n",
        "    # Print the loss after every epoch\n",
        "    train_losses.append(loss.item())\n",
        "    print(f\"Epoch [{epoch+1}/{num_epochs}], Loss: {loss.item()}\")\n",
        "\n",
        "# Save the trained model parameters\n",
        "torch.save(encoder.state_dict(), \"encoder.pth\")\n",
        "torch.save(decoder.state_dict(), \"decoder.pth\")"
      ],
      "metadata": {
        "colab": {
          "base_uri": "https://localhost:8080/"
        },
        "id": "sLuLld-jnD3w",
        "outputId": "e3096927-7f67-4ede-88eb-f945627fa042"
      },
      "execution_count": null,
      "outputs": [
        {
          "output_type": "stream",
          "name": "stdout",
          "text": [
            "Epoch [1/10], Loss: 0.028849778696894646\n",
            "Epoch [2/10], Loss: 0.010305807925760746\n",
            "Epoch [3/10], Loss: 0.01916063018143177\n",
            "Epoch [4/10], Loss: 0.008741011843085289\n",
            "Epoch [5/10], Loss: 0.021915411576628685\n",
            "Epoch [6/10], Loss: 0.011516614817082882\n",
            "Epoch [7/10], Loss: 0.022804563865065575\n",
            "Epoch [8/10], Loss: 0.04564661532640457\n",
            "Epoch [9/10], Loss: 0.018278200179338455\n",
            "Epoch [10/10], Loss: 0.029975900426506996\n"
          ]
        }
      ]
    },
    {
      "cell_type": "markdown",
      "source": [
        "Take a look at the training losses, more out of habit than necessity since the absence of one-hot encoded data makes the loss progression uninformative (feel free to fact check me on that)."
      ],
      "metadata": {
        "id": "Oqy5wVaDLltZ"
      }
    },
    {
      "cell_type": "code",
      "source": [
        "import matplotlib.pyplot as plt\n",
        "\n",
        "plt.plot(train_losses, label='Training loss')\n",
        "plt.legend()\n",
        "plt.xlabel('Epoch')\n",
        "plt.ylabel('Loss')\n",
        "plt.show()"
      ],
      "metadata": {
        "colab": {
          "base_uri": "https://localhost:8080/",
          "height": 449
        },
        "id": "4WP8wp4siXTd",
        "outputId": "ae912654-5607-45a3-a11c-aab926c299de"
      },
      "execution_count": null,
      "outputs": [
        {
          "output_type": "display_data",
          "data": {
            "text/plain": [
              "<Figure size 640x480 with 1 Axes>"
            ],
            "image/png": "[encoded data removed]"
          },
          "metadata": {}
        }
      ]
    },
    {
      "cell_type": "markdown",
      "source": [
        "We have now trained our Encoder-Decoder set on the images obtained from Flow Cytobot. The point of that was to extract meaningful clustering patterns from the trained parameters, thus auto-classifying our images into similar groups."
      ],
      "metadata": {
        "id": "Ld4s67AVL9Sg"
      }
    },
    {
      "cell_type": "code",
      "source": [
        "# Re-initialize Encoder\n",
        "encoder = Encoder()\n",
        "encoder.load_state_dict(torch.load('/content/drive/MyDrive/encoder.pth', map_location=torch.device('cpu')))\n",
        "encoder.to(device)\n",
        "\n",
        "# Re-initialize Decoder\n",
        "#decoder = Decoder()\n",
        "#decoder.load_state_dict(torch.load('/content/drive/MyDrive/decoder.pth', map_location=torch.device('cpu')))\n",
        "#decoder.to(device)"
      ],
      "metadata": {
        "colab": {
          "base_uri": "https://localhost:8080/"
        },
        "id": "7PZZrt43orMq",
        "outputId": "e66a6756-7b19-421e-f7bb-054b73d9a3ac"
      },
      "execution_count": 6,
      "outputs": [
        {
          "output_type": "execute_result",
          "data": {
            "text/plain": [
              "Encoder(\n",
              "  (conv1): Conv2d(3, 64, kernel_size=(4, 4), stride=(2, 2), padding=(1, 1))\n",
              "  (conv2): Conv2d(64, 128, kernel_size=(4, 4), stride=(2, 2), padding=(1, 1))\n",
              "  (conv3): Conv2d(128, 256, kernel_size=(4, 4), stride=(2, 2), padding=(1, 1))\n",
              "  (conv4): Conv2d(256, 512, kernel_size=(4, 4), stride=(2, 2), padding=(1, 1))\n",
              "  (fc): Linear(in_features=100352, out_features=512, bias=True)\n",
              ")"
            ]
          },
          "metadata": {},
          "execution_count": 6
        }
      ]
    },
    {
      "cell_type": "markdown",
      "source": [
        "Re-load the images for model testing. I chose to make separate train_ and test_dataloader variables for future flexability if needed."
      ],
      "metadata": {
        "id": "O802aGi9MTSq"
      }
    },
    {
      "cell_type": "code",
      "source": [
        "import torch\n",
        "from torch.utils.data import DataLoader\n",
        "\n",
        "# Create a DataLoader for your dataset\n",
        "test_dataloader = DataLoader(dataset, batch_size=1, shuffle=False) # batch size = 1 due to colab memory restrictions\n",
        "\n",
        "# Set the encoder to evaluation mode\n",
        "encoder.eval()\n",
        "\n",
        "# Initialize an empty list to store the encoded features\n",
        "encoded_features = []\n",
        "\n",
        "# Pass the data through the Encoder and extract the encoded features\n",
        "with torch.no_grad():\n",
        "    for images in test_dataloader:\n",
        "        images = images.to(device)\n",
        "        \n",
        "        # Forward pass through the Encoder\n",
        "        encoded = encoder(images)\n",
        "        \n",
        "        # Append the encoded features to the list\n",
        "        encoded_features.append(encoded.cpu())\n",
        "    \n",
        "# Concatenate the encoded features from all batches\n",
        "encoded_features = torch.cat(encoded_features, dim=0)\n",
        "\n",
        "# Print the shape of the encoded features\n",
        "print(\"encoded_features shape:\", encoded_features.shape)"
      ],
      "metadata": {
        "colab": {
          "base_uri": "https://localhost:8080/"
        },
        "id": "4pP9u75rkzQQ",
        "outputId": "66f396e5-6187-4147-d408-adf351181de7"
      },
      "execution_count": 7,
      "outputs": [
        {
          "output_type": "stream",
          "name": "stdout",
          "text": [
            "encoded_features shape: torch.Size([4239, 512])\n"
          ]
        }
      ]
    },
    {
      "cell_type": "markdown",
      "source": [
        "Silhouette Analysis is a method to determine the suitability of a cluster set size. For example, if data clusters better among 4 groups rathern than 3, Silhouette Analysis should reveal that."
      ],
      "metadata": {
        "id": "lqc37r4dMmFi"
      }
    },
    {
      "cell_type": "code",
      "source": [
        "# Initialize an empty list to store silhouette scores for different numbers of clusters\n",
        "silhouette_scores = []\n",
        "\n",
        "# Define the range of number of clusters to try\n",
        "min_clusters = 2\n",
        "max_clusters = 10\n",
        "\n",
        "# Perform silhouette analysis for each number of clusters\n",
        "for n_clusters in range(min_clusters, max_clusters+1):\n",
        "    # Perform clustering using any clustering algorithm of your choice (e.g., KMeans)\n",
        "    clusterer = KMeans(n_clusters=n_clusters)\n",
        "    labels = clusterer.fit_predict(encoded_features)\n",
        "    \n",
        "    # Calculate the silhouette score for the current number of clusters\n",
        "    silhouette_avg = silhouette_score(encoded_features, labels)\n",
        "    silhouette_scores.append(silhouette_avg)\n",
        "    \n",
        "    # Print the silhouette score for the current number of clusters\n",
        "    print(f\"Number of clusters = {n_clusters}, Silhouette score = {silhouette_avg}\")\n",
        "\n",
        "# Plot the silhouette scores\n",
        "plt.plot(range(min_clusters, max_clusters+1), silhouette_scores, marker='o')\n",
        "plt.xlabel(\"Number of Clusters\")\n",
        "plt.ylabel(\"Silhouette Score\")\n",
        "plt.title(\"Silhouette Analysis\")\n",
        "plt.show()\n"
      ],
      "metadata": {
        "colab": {
          "base_uri": "https://localhost:8080/",
          "height": 961
        },
        "id": "m7qY2L_Nk-4y",
        "outputId": "83d64bfd-fdd4-4fef-9d98-000ce79c25e7"
      },
      "execution_count": 8,
      "outputs": [
        {
          "output_type": "stream",
          "name": "stderr",
          "text": [
            "/usr/local/lib/python3.10/dist-packages/sklearn/cluster/_kmeans.py:870: FutureWarning: The default value of `n_init` will change from 10 to 'auto' in 1.4. Set the value of `n_init` explicitly to suppress the warning\n",
            "  warnings.warn(\n"
          ]
        },
        {
          "output_type": "stream",
          "name": "stdout",
          "text": [
            "Number of clusters = 2, Silhouette score = 0.7453630566596985\n"
          ]
        },
        {
          "output_type": "stream",
          "name": "stderr",
          "text": [
            "/usr/local/lib/python3.10/dist-packages/sklearn/cluster/_kmeans.py:870: FutureWarning: The default value of `n_init` will change from 10 to 'auto' in 1.4. Set the value of `n_init` explicitly to suppress the warning\n",
            "  warnings.warn(\n"
          ]
        },
        {
          "output_type": "stream",
          "name": "stdout",
          "text": [
            "Number of clusters = 3, Silhouette score = 0.5395548343658447\n"
          ]
        },
        {
          "output_type": "stream",
          "name": "stderr",
          "text": [
            "/usr/local/lib/python3.10/dist-packages/sklearn/cluster/_kmeans.py:870: FutureWarning: The default value of `n_init` will change from 10 to 'auto' in 1.4. Set the value of `n_init` explicitly to suppress the warning\n",
            "  warnings.warn(\n"
          ]
        },
        {
          "output_type": "stream",
          "name": "stdout",
          "text": [
            "Number of clusters = 4, Silhouette score = 0.5168637037277222\n"
          ]
        },
        {
          "output_type": "stream",
          "name": "stderr",
          "text": [
            "/usr/local/lib/python3.10/dist-packages/sklearn/cluster/_kmeans.py:870: FutureWarning: The default value of `n_init` will change from 10 to 'auto' in 1.4. Set the value of `n_init` explicitly to suppress the warning\n",
            "  warnings.warn(\n"
          ]
        },
        {
          "output_type": "stream",
          "name": "stdout",
          "text": [
            "Number of clusters = 5, Silhouette score = 0.4938139021396637\n"
          ]
        },
        {
          "output_type": "stream",
          "name": "stderr",
          "text": [
            "/usr/local/lib/python3.10/dist-packages/sklearn/cluster/_kmeans.py:870: FutureWarning: The default value of `n_init` will change from 10 to 'auto' in 1.4. Set the value of `n_init` explicitly to suppress the warning\n",
            "  warnings.warn(\n"
          ]
        },
        {
          "output_type": "stream",
          "name": "stdout",
          "text": [
            "Number of clusters = 6, Silhouette score = 0.49860382080078125\n"
          ]
        },
        {
          "output_type": "stream",
          "name": "stderr",
          "text": [
            "/usr/local/lib/python3.10/dist-packages/sklearn/cluster/_kmeans.py:870: FutureWarning: The default value of `n_init` will change from 10 to 'auto' in 1.4. Set the value of `n_init` explicitly to suppress the warning\n",
            "  warnings.warn(\n"
          ]
        },
        {
          "output_type": "stream",
          "name": "stdout",
          "text": [
            "Number of clusters = 7, Silhouette score = 0.45804068446159363\n"
          ]
        },
        {
          "output_type": "stream",
          "name": "stderr",
          "text": [
            "/usr/local/lib/python3.10/dist-packages/sklearn/cluster/_kmeans.py:870: FutureWarning: The default value of `n_init` will change from 10 to 'auto' in 1.4. Set the value of `n_init` explicitly to suppress the warning\n",
            "  warnings.warn(\n"
          ]
        },
        {
          "output_type": "stream",
          "name": "stdout",
          "text": [
            "Number of clusters = 8, Silhouette score = 0.45693862438201904\n"
          ]
        },
        {
          "output_type": "stream",
          "name": "stderr",
          "text": [
            "/usr/local/lib/python3.10/dist-packages/sklearn/cluster/_kmeans.py:870: FutureWarning: The default value of `n_init` will change from 10 to 'auto' in 1.4. Set the value of `n_init` explicitly to suppress the warning\n",
            "  warnings.warn(\n"
          ]
        },
        {
          "output_type": "stream",
          "name": "stdout",
          "text": [
            "Number of clusters = 9, Silhouette score = 0.4373115599155426\n"
          ]
        },
        {
          "output_type": "stream",
          "name": "stderr",
          "text": [
            "/usr/local/lib/python3.10/dist-packages/sklearn/cluster/_kmeans.py:870: FutureWarning: The default value of `n_init` will change from 10 to 'auto' in 1.4. Set the value of `n_init` explicitly to suppress the warning\n",
            "  warnings.warn(\n"
          ]
        },
        {
          "output_type": "stream",
          "name": "stdout",
          "text": [
            "Number of clusters = 10, Silhouette score = 0.4369805157184601\n"
          ]
        },
        {
          "output_type": "display_data",
          "data": {
            "text/plain": [
              "<Figure size 640x480 with 1 Axes>"
            ],
            "image/png": "[encoded data removed]"
          },
          "metadata": {}
        }
      ]
    },
    {
      "cell_type": "markdown",
      "source": [
        "This is as far as I got before crashing Colab."
      ],
      "metadata": {
        "id": "CX9wI5WmM61-"
      }
    },
    {
      "cell_type": "code",
      "source": [
        "# Initialize an empty tensor to store the encoded features\n",
        "encoded_features = torch.empty(0)\n",
        "\n",
        "# Iterate over the batches of data\n",
        "for images in test_dataloader:\n",
        "    # Forward pass\n",
        "    encoded = encoder(images.to(device))\n",
        "\n",
        "    # Concatenate the encoded features from the current batch\n",
        "    encoded_features = torch.cat((encoded_features, encoded.cpu()), dim=0)\n",
        "\n",
        "encoded_features = encoded_features.detach().numpy()\n",
        "\n",
        "# Perform clustering and silhouette analysis\n",
        "from sklearn.cluster import KMeans\n",
        "from sklearn.metrics import silhouette_score\n",
        "\n",
        "kmeans = KMeans(n_clusters=5)  # Adjust the number of clusters as needed\n",
        "clusters = kmeans.fit_predict(encoded_features)\n",
        "\n",
        "silhouette_avg = silhouette_score(encoded_features, clusters)\n",
        "print(\"Average silhouette score:\", silhouette_avg)"
      ],
      "metadata": {
        "id": "dTWSRLUalv_u"
      },
      "execution_count": null,
      "outputs": []
    }
  ]
}
